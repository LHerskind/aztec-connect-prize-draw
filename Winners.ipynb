{
 "cells": [
  {
   "cell_type": "code",
   "execution_count": 1,
   "id": "5f83f823",
   "metadata": {},
   "outputs": [],
   "source": [
    "from datetime import datetime, timezone\n",
    "import ape\n",
    "import pickle\n",
    "from ape import chain, networks, Contract\n",
    "import pandas as pd"
   ]
  },
  {
   "cell_type": "code",
   "execution_count": 2,
   "id": "f34e11b8",
   "metadata": {},
   "outputs": [
    {
     "name": "stdout",
     "output_type": "stream",
     "text": [
      "INFO: Connecting to existing Geth node at 'http://fullnode.dappnode:8545'.\n"
     ]
    },
    {
     "data": {
      "text/plain": [
       "<geth chain_id=1>"
      ]
     },
     "execution_count": 2,
     "metadata": {},
     "output_type": "execute_result"
    }
   ],
   "source": [
    "def flatten(logs):\n",
    "    flat = []\n",
    "    for log in logs:\n",
    "        t = log.event_arguments\n",
    "        t[\"block_number\"] = log.block_number\n",
    "        t[\"transaction_hash\"] = log.transaction_hash.hex()\n",
    "        flat.append(t)\n",
    "    return pd.DataFrame(flat)\n",
    "\n",
    "networks.parse_network_choice(\"ethereum:mainnet:geth\").__enter__()"
   ]
  },
  {
   "cell_type": "code",
   "execution_count": 3,
   "id": "b5ddf9c5",
   "metadata": {},
   "outputs": [],
   "source": [
    "# Do a binary search to find the timing. \n",
    "def findBlockNumberFromTime(target = datetime(2022, 1, 1, 12, 0, 0, 0, timezone.utc)):\n",
    "    lower = 0\n",
    "    higher = curr = chain.blocks.height\n",
    "\n",
    "    while lower + 1 != higher:\n",
    "        curr_block = lower + (higher - lower) // 2\n",
    "        curr = datetime.fromtimestamp(\n",
    "            networks.active_provider.get_block(curr_block).timestamp, timezone.utc\n",
    "        )\n",
    "\n",
    "        if curr < target:\n",
    "            lower = curr_block\n",
    "        else:\n",
    "            higher = curr_block\n",
    "\n",
    "    if curr < target:\n",
    "        curr_block += 1\n",
    "\n",
    "    curr = datetime.fromtimestamp(\n",
    "        networks.active_provider.get_block(curr_block).timestamp, timezone.utc\n",
    "    )\n",
    "    \n",
    "    return (curr_block, curr)"
   ]
  },
  {
   "cell_type": "code",
   "execution_count": 4,
   "id": "1fcf6dd1",
   "metadata": {},
   "outputs": [],
   "source": [
    "(start_block_number, start_time) = findBlockNumberFromTime(datetime(2022, 7, 22, 12, 0, 0, 0, timezone.utc))\n",
    "(end_block_number, end_time) = findBlockNumberFromTime(datetime(2022, 7, 29, 12, 0, 0, 0, timezone.utc))\n",
    "\n",
    "cutoff_eth = 1e18\n",
    "cutoff_dai = 2000e18"
   ]
  },
  {
   "cell_type": "code",
   "execution_count": 5,
   "id": "75778fd7",
   "metadata": {},
   "outputs": [],
   "source": [
    "aztec_connect = Contract(\"rollup.aztec.eth\")\n",
    "connect_deployed = 14923081\n",
    "\n",
    "if True:\n",
    "    ac_deposits = flatten(aztec_connect.Deposit.range(\n",
    "        start_or_stop=max(connect_deployed, start_block_number), \n",
    "        stop = end_block_number, \n",
    "        block_page_size = 10000\n",
    "    ))\n",
    "    pickle.dump(ac_deposits, open(\"ac_deposits.p\", \"wb\"))\n",
    "ac_deposits = pickle.load(open(\"ac_deposits.p\", \"rb\"))"
   ]
  },
  {
   "cell_type": "code",
   "execution_count": 10,
   "id": "57a80465",
   "metadata": {},
   "outputs": [],
   "source": [
    "cutoff_block_start = start_block_number\n",
    "cutoff_block_end = end_block_number\n",
    "\n",
    "in_time = ac_deposits[\n",
    "    (ac_deposits[\"block_number\"] >= cutoff_block_start) & \n",
    "    (ac_deposits[\"block_number\"] <= cutoff_block_end)\n",
    "]\n",
    "eligible = in_time.drop([\"block_number\", \"transaction_hash\"], axis=1)\n",
    "eligible = eligible.groupby([\"assetId\", \"depositorAddress\"]).sum()\n",
    "eligible = eligible.reset_index(level=[0, 1])\n",
    "eligible = eligible[\n",
    "    ((eligible[\"assetId\"] == 0) & (eligible[\"depositValue\"] >= cutoff_eth)) |\n",
    "    ((eligible[\"assetId\"] == 1) & (eligible[\"depositValue\"] >= cutoff_dai))\n",
    "]\n",
    "\n",
    "winner = eligible.sample(random_state=cutoff_block_end).values[0]"
   ]
  },
  {
   "cell_type": "code",
   "execution_count": 11,
   "id": "464a601e",
   "metadata": {},
   "outputs": [
    {
     "name": "stdout",
     "output_type": "stream",
     "text": [
      "For the timeframe 2022-07-22 12:00:16+00:00 (block 15192236) to 2022-07-29 12:00:03+00:00 (block 15237215) we have:\n",
      "There is a total of 9927 users with deposits (eth or dai)\n",
      "There is a total of 90 users with deposits (>2000.0 dai)\n",
      "There is a total of 962 users with deposits (>1.0 eth)\n",
      "The winner is 0xeb9Ac806d01487754Ff3cA8cFf89aaBb1068Fd83, and have deposited 1.10018 eth\n"
     ]
    }
   ],
   "source": [
    "print(\"For the timeframe {0} (block {1}) to {2} (block {3}) we have:\".format(\n",
    "    datetime.fromtimestamp(networks.active_provider.get_block(cutoff_block_start).timestamp, timezone.utc), \n",
    "    cutoff_block_start,\n",
    "    datetime.fromtimestamp(networks.active_provider.get_block(cutoff_block_end).timestamp, timezone.utc),\n",
    "    cutoff_block_end\n",
    "))\n",
    "print(\"There is a total of {0} users with deposits (eth or dai)\".format(len(in_time)))\n",
    "print(\"There is a total of {0} users with deposits (>{1} dai)\".format(\n",
    "    len(eligible[eligible[\"assetId\"] == 1]),\n",
    "    cutoff_dai / 1e18\n",
    "))\n",
    "print(\"There is a total of {0} users with deposits (>{1} eth)\".format(\n",
    "    len(eligible[eligible[\"assetId\"] == 0]),\n",
    "    cutoff_eth / 1e18\n",
    "))\n",
    "print('The winner is {0}, and have deposited {1} {2}'.format(\n",
    "    winner[1], \n",
    "    winner[2] / 1e18, \n",
    "    \"dai\" if winner[0] == 1 else \"eth\"\n",
    "))"
   ]
  }
 ],
 "metadata": {
  "kernelspec": {
   "display_name": "Python 3 (ipykernel)",
   "language": "python",
   "name": "python3"
  },
  "language_info": {
   "codemirror_mode": {
    "name": "ipython",
    "version": 3
   },
   "file_extension": ".py",
   "mimetype": "text/x-python",
   "name": "python",
   "nbconvert_exporter": "python",
   "pygments_lexer": "ipython3",
   "version": "3.10.0"
  }
 },
 "nbformat": 4,
 "nbformat_minor": 5
}
