{
 "cells": [
  {
   "cell_type": "code",
   "execution_count": null,
   "id": "5f83f823",
   "metadata": {},
   "outputs": [],
   "source": [
    "from datetime import datetime, timezone\n",
    "import ape\n",
    "import pickle\n",
    "from ape import chain, networks, Contract\n",
    "import pandas as pd"
   ]
  },
  {
   "cell_type": "code",
   "execution_count": null,
   "id": "f34e11b8",
   "metadata": {},
   "outputs": [],
   "source": [
    "def flatten(logs):\n",
    "    flat = []\n",
    "    for log in logs:\n",
    "        t = log.event_arguments\n",
    "        t[\"block_number\"] = log.block_number\n",
    "        t[\"transaction_hash\"] = log.transaction_hash.hex()\n",
    "        flat.append(t)\n",
    "    return pd.DataFrame(flat)\n",
    "\n",
    "networks.parse_network_choice(\"ethereum:mainnet:geth\").__enter__()"
   ]
  },
  {
   "cell_type": "code",
   "execution_count": null,
   "id": "75778fd7",
   "metadata": {},
   "outputs": [],
   "source": [
    "aztec_connect = Contract(\"rollup.aztec.eth\")\n",
    "connect_deployed = 14923081\n",
    "\n",
    "if False:\n",
    "    ac_deposits = flatten(aztec_connect.Deposit.range(\n",
    "        start_or_stop=connect_deployed, \n",
    "        stop = chain.blocks.height, \n",
    "        block_page_size = 10000\n",
    "    ))\n",
    "    pickle.dump(ac_deposits, open(\"ac_deposits.p\", \"wb\"))\n",
    "ac_deposits = pickle.load(open(\"ac_deposits.p\", \"rb\"))"
   ]
  },
  {
   "cell_type": "code",
   "execution_count": null,
   "id": "57a80465",
   "metadata": {},
   "outputs": [],
   "source": [
    "# Take only stuff that has a blocknumber > x\n",
    "cutoff_block_start = 0\n",
    "cutoff_block_end = 15147113\n",
    "\n",
    "cutoff_eth = 1e18\n",
    "cutoff_dai = 2000e18\n",
    "\n",
    "in_time = ac_deposits[\n",
    "    (ac_deposits[\"block_number\"] > cutoff_block_start) & \n",
    "    (ac_deposits[\"block_number\"] < cutoff_block_end)\n",
    "]\n",
    "eligible = in_time.drop([\"block_number\", \"transaction_hash\"], axis=1)\n",
    "eligible = eligible.groupby([\"assetId\", \"depositorAddress\"]).sum()\n",
    "eligible = eligible.reset_index(level=[0, 1])\n",
    "eligible = eligible[\n",
    "    ((eligible[\"assetId\"] == 0) & (eligible[\"depositValue\"] >= cutoff_eth)) |\n",
    "    ((eligible[\"assetId\"] == 1) & (eligible[\"depositValue\"] >= cutoff_dai))\n",
    "]\n",
    "\n",
    "winner = eligible.sample().values[0]"
   ]
  },
  {
   "cell_type": "code",
   "execution_count": null,
   "id": "464a601e",
   "metadata": {},
   "outputs": [],
   "source": [
    "print(\"For the timeframe {0} (block {1}) to {2} (block {3}) we have:\".format(\n",
    "    datetime.fromtimestamp(networks.active_provider.get_block(cutoff_block_start).timestamp, timezone.utc), \n",
    "    cutoff_block_start,\n",
    "    datetime.fromtimestamp(networks.active_provider.get_block(cutoff_block_end).timestamp, timezone.utc),\n",
    "    cutoff_block_end\n",
    "))\n",
    "print(\"There is a total of {0} users with deposits (eth or dai)\".format(len(in_time)))\n",
    "print(\"There is a total of {0} users with deposits (>{1} dai)\".format(\n",
    "    len(eligible[eligible[\"assetId\"] == 1]),\n",
    "    cutoff_dai / 1e18\n",
    "))\n",
    "print(\"There is a total of {0} users with deposits (>{1} eth)\".format(\n",
    "    len(eligible[eligible[\"assetId\"] == 0]),\n",
    "    cutoff_eth / 1e18\n",
    "))\n",
    "print('The winner is {0}, and have deposited {1} {2}'.format(\n",
    "    winner[1], \n",
    "    winner[2] / 1e18, \n",
    "    \"dai\" if winner[0] == 1 else \"eth\"\n",
    "))"
   ]
  }
 ],
 "metadata": {
  "kernelspec": {
   "display_name": "Python 3 (ipykernel)",
   "language": "python",
   "name": "python3"
  },
  "language_info": {
   "codemirror_mode": {
    "name": "ipython",
    "version": 3
   },
   "file_extension": ".py",
   "mimetype": "text/x-python",
   "name": "python",
   "nbconvert_exporter": "python",
   "pygments_lexer": "ipython3",
   "version": "3.10.0"
  }
 },
 "nbformat": 4,
 "nbformat_minor": 5
}
